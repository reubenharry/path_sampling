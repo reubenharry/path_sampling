{
 "cells": [
  {
   "cell_type": "code",
   "execution_count": null,
   "metadata": {
    "vscode": {
     "languageId": "plaintext"
    }
   },
   "outputs": [],
   "source": [
    "def algorithm2(V, s, num_steps, key, ds, hyperparams):\n",
    "\n",
    "    #ini\n",
    "\n",
    "    u = lambda x: -s*jax.grad(V)(x)\n",
    "\n",
    "\n",
    "    for i in range(num_steps):\n",
    "        key = jax.random.fold_in(key, i)\n",
    "        xts = step(\n",
    "            xts=xts,\n",
    "            u=u,\n",
    "            key=key,\n",
    "            ds=ds,\n",
    "            hyperparams=hyperparams\n",
    "        )\n",
    "\n",
    "    return xts"
   ]
  }
 ],
 "metadata": {
  "language_info": {
   "name": "python"
  }
 },
 "nbformat": 4,
 "nbformat_minor": 2
}
