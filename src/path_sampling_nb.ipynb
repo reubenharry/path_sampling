{
 "cells": [
  {
   "cell_type": "markdown",
   "metadata": {},
   "source": [
    "## Path sampling\n",
    "\n",
    "This notebook contains the code for Qijia's path sampling idea.\n",
    "\n",
    "First, imports:"
   ]
  },
  {
   "cell_type": "code",
   "execution_count": 1,
   "metadata": {},
   "outputs": [],
   "source": [
    "import jax\n",
    "import jax.numpy as jnp\n",
    "from nn import MLP, train\n",
    "import numpy as np\n",
    "import matplotlib.pyplot as plt\n",
    "import optax \n",
    "import scipy\n",
    "import os\n"
   ]
  },
  {
   "cell_type": "markdown",
   "metadata": {},
   "source": [
    "`batch_size` is the number of paths (that we use each time we update the drift)\n",
    "\n",
    "`ndims` is the number of dimensions of the problem. Here we work with a TPS example, of a double well in 2D."
   ]
  },
  {
   "cell_type": "code",
   "execution_count": 2,
   "metadata": {},
   "outputs": [],
   "source": [
    "# this allows for parallelization with pmap. Not currently used\n",
    "os.environ[\"XLA_FLAGS\"] = \"--xla_force_host_platform_device_count=\" + str(100)\n",
    "\n",
    "# currently we're just doing an SDE on \\mathbb{R}\n",
    "ndims = 1\n"
   ]
  },
  {
   "cell_type": "markdown",
   "metadata": {},
   "source": [
    "We now define a function that generates random paths given a drift term `b` and a noise term `W`:"
   ]
  },
  {
   "cell_type": "code",
   "execution_count": 3,
   "metadata": {},
   "outputs": [],
   "source": [
    "\n",
    "\n",
    "def sample_sde(b, W, rho, dt, num_steps, key):\n",
    "\n",
    "    \"\"\"\n",
    "    Sample a path of the SDE defined by b, W, and rho.\n",
    "    b: drift term. A function from R^ndims x R -> R^ndims\n",
    "    W: noise term\n",
    "    rho: initial distribution to sample from\n",
    "    dt: time step size\n",
    "    num_steps: number of time steps to take along the path\n",
    "    key: random key for sampling\n",
    "\n",
    "    Returns:\n",
    "\n",
    "    array of size [batch_size, num_steps, ndims] containing the sampled paths\n",
    "    \"\"\"\n",
    "\n",
    "    init_key, run_key = jax.random.split(key)\n",
    "    X_0 = rho(init_key)\n",
    "\n",
    "    def body(X_and_t, key):\n",
    "        X, time = X_and_t\n",
    "\n",
    "        new_X = X + b(X, time) * dt + W(X_0, key) * jnp.sqrt(dt)\n",
    "        new_time = time + dt\n",
    "        return ((new_X, new_time), (new_X, new_time))\n",
    "\n",
    "    keys = jax.random.split(run_key, num_steps-1)\n",
    "    path, time =  jax.lax.scan(body, (X_0, 0), keys)[1]\n",
    "    return jnp.concat((X_0[None], path), axis=0), jnp.concat((jnp.zeros(1,), time), axis=0)\n"
   ]
  },
  {
   "cell_type": "markdown",
   "metadata": {},
   "source": [
    "## Example of a path in a double well\n",
    "\n",
    "Here's an example of sampling a path in a double well potential."
   ]
  },
  {
   "cell_type": "code",
   "execution_count": 4,
   "metadata": {},
   "outputs": [
    {
     "data": {
      "text/plain": [
       "[<matplotlib.lines.Line2D at 0x121036f10>]"
      ]
     },
     "execution_count": 4,
     "metadata": {},
     "output_type": "execute_result"
    },
    {
     "data": {
      "image/png": "[encoded data removed]",
      "text/plain": [
       "<Figure size 640x480 with 1 Axes>"
      ]
     },
     "metadata": {},
     "output_type": "display_data"
    }
   ],
   "source": [
    "hyperparams={'dt': 0.01, 'num_steps': 50, 'num_training_steps' : 1000}\n",
    "\n",
    "\n",
    "def uref(x, t): \n",
    "    potential = lambda x: jnp.sum(x**4 - 8 * x**2,axis=-1)\n",
    "    return -jax.grad(potential)(x)\n",
    "\n",
    "path, time = sample_sde(\n",
    "    b=uref, \n",
    "    W = lambda _, key: jnp.sqrt(2)*jax.random.normal(key, shape=(ndims,)),\n",
    "    rho = lambda key: jnp.zeros((ndims,))-2.,\n",
    "    key=jax.random.key(0), \n",
    "    dt=hyperparams['dt'], \n",
    "    num_steps=hyperparams['num_steps'])\n",
    "\n",
    "# visualize path\n",
    "plt.plot(path,time)\n",
    "# plot potential\n",
    "potential = lambda x: jnp.sum(x**4 - 8 * x**2,axis=-1)\n",
    "x = np.linspace(-3, 3, 100)\n",
    "\n",
    "plt.plot(x, potential(x[:, None]))"
   ]
  },
  {
   "cell_type": "code",
   "execution_count": 5,
   "metadata": {},
   "outputs": [],
   "source": [
    "# currently set for TPS\n",
    "def J(x,y):\n",
    "    \"\"\"\n",
    "    x: path of the SDE, array of shape [num_steps, ndims]\n",
    "    y: observation, here ignored, so assume it's `None`\n",
    "\n",
    "    Returns:\n",
    "        a scalar value representing the cost of the path\n",
    "    \"\"\"\n",
    "\n",
    "    sigma = 0.1\n",
    "    return (1/sigma**2)*(x[-1,0]- 2)**2\n",
    "\n",
    "# vmap is a jax function that allows us to apply a function to each element of an array\n",
    "def E_J(paths, obs):\n",
    "    \"\"\"\n",
    "    paths: array of shape [batch_size, num_steps, ndims]\n",
    "    obs: here can just be None\n",
    "    Returns:\n",
    "        a scalar value representing the mean cost of the paths\n",
    "    \"\"\"\n",
    "    return jnp.mean(jax.vmap(J)(paths, obs),axis=0)\n"
   ]
  },
  {
   "cell_type": "markdown",
   "metadata": {},
   "source": [
    "We can then calculate a path cost `J(x)` as follows:"
   ]
  },
  {
   "cell_type": "code",
   "execution_count": 6,
   "metadata": {},
   "outputs": [
    {
     "name": "stdout",
     "output_type": "stream",
     "text": [
      "Cost of path:  1347.4712\n"
     ]
    }
   ],
   "source": [
    "cost = J(path, None)\n",
    "print(\"Cost of path: \", cost)\n"
   ]
  },
  {
   "cell_type": "markdown",
   "metadata": {},
   "source": [
    "# Defining h\n",
    "\n",
    "We now define `h`"
   ]
  },
  {
   "cell_type": "code",
   "execution_count": 7,
   "metadata": {},
   "outputs": [],
   "source": [
    "def make_h(b, dbds):\n",
    "    \"\"\"\n",
    "    b: drift term. A function from R^ndims x R -> R^ndims\n",
    "    dbds: also a function from R^ndims x R -> R^ndims\n",
    "    Returns:\n",
    "        a function h, as defined below\n",
    "    \"\"\"\n",
    "\n",
    "    @jax.jit # this speeds up the function\n",
    "    def h(x, time):\n",
    "        \"\"\"\n",
    "        x: path of the SDE, array of shape [num_steps, ndims]\n",
    "        time: array of shape [num_steps]\n",
    "        Returns:\n",
    "            a scalar value representing the cost of the path\n",
    "        \"\"\"\n",
    "        dt = time[1]\n",
    "\n",
    "        # a crude approximation of the derivative\n",
    "        dxdts = jnp.concatenate([jnp.zeros((1, x.shape[1])) , x[1:, :] - x[:-1, :]], axis=0)/ dt\n",
    "\n",
    "        # calculate divergence of dbds at all times, using the trace of the jacobian\n",
    "        div_dbdss = jax.vmap(lambda xt, t: jnp.trace(jax.jacobian(lambda k: dbds(k,t))(xt)))(x, time)\n",
    "\n",
    "        # the discretized integral\n",
    "        out = jax.vmap(lambda x, t, dxdt, div_dbds: \n",
    "                    \n",
    "                    -0.5*dt*((b(x,t) - dxdt).dot(dbds(x,t)) + 0.5*div_dbds)\n",
    "                    )(x,time, dxdts, div_dbdss)\n",
    "        \n",
    "        return jnp.sum(out) \n",
    "\n",
    "    return h\n",
    "\n",
    "# compute the loss function, which here is the square of the difference between the left and right of (7)\n",
    "def make_h_loss(expectation_of_J, b):\n",
    "    \"\"\"\n",
    "    expectation_of_J: the expectation of J, computed from the paths\n",
    "    b: drift term. A function from R^ndims x R -> R^ndims\n",
    "    Returns:\n",
    "        a function h_loss, which computes the loss\n",
    "    \"\"\"\n",
    "    \n",
    "    def h_loss(dbds, xs, times, ys):\n",
    "        \"\"\"\n",
    "        xs: array of shape [batch_size, num_steps, ndims]\n",
    "        times: array of shape [batch_size, num_steps]\n",
    "        ys: for current purposes, just None\n",
    "        Returns:\n",
    "            a scalar value representing the loss\n",
    "        \"\"\"\n",
    "\n",
    "        h = make_h(b, dbds)\n",
    "\n",
    "        expectation_of_h = jnp.mean(jax.vmap(h)(xs, times), axis=0)\n",
    "\n",
    "        return jnp.sum(jax.vmap(lambda x,y, t: (-J(x, y)+expectation_of_J - h(x,t) + expectation_of_h)**2)(xs, ys, times))\n",
    "\n",
    "    return h_loss        \n"
   ]
  },
  {
   "cell_type": "code",
   "execution_count": 8,
   "metadata": {},
   "outputs": [],
   "source": [
    "def find_dbds(model_key, expectation_of_J, b, xs, times, ys, num_training_steps):\n",
    "    \"\"\"\n",
    "    model_key: random key for the model\n",
    "    expectation_of_J: the expectation of J, computed from the paths\n",
    "    b: drift term. A function from R^ndims x R -> R^ndims\n",
    "    xs: array of shape [batch_size, num_steps, ndims]\n",
    "    times: array of shape [batch_size, num_steps]\n",
    "    ys: for current purposes, just None\n",
    "    num_training_steps: number of training steps to take\n",
    "    Returns:\n",
    "        dbds: the trained model, which is a function from R^ndims x R -> R^ndims\n",
    "    \"\"\"\n",
    "\n",
    "    dbds = MLP([2,20,20,1], key=model_key) # create an NN, with random weights\n",
    "    learning_rate = 1e-3\n",
    "    optimizer = optax.adam(learning_rate)\n",
    "    h_loss = make_h_loss(expectation_of_J, b)\n",
    "    dbds = train(h_loss, dbds, optimizer, num_training_steps, xs, times, ys)\n",
    "    return dbds\n",
    "\n",
    "# b \\mapsto b + dbds\n",
    "# Pseudo code:\n",
    "# create `xs` of shape [batch_size, num_steps, ndims]\n",
    "# calculate expectation of J\n",
    "# initialize a neural net as function from R^ndims x R -> R^ndims\n",
    "# fit weights of neural net according to the loss function\n",
    "# calculate test loss\n",
    "# return lambda x: b(x) + dbds(x)\n",
    "def update(b, hyperparams, key, i):\n",
    "    \"\"\"\n",
    "    b: drift term. A function from R^ndims x R -> R^ndims\n",
    "    hyperparams: dictionary of hyperparameters\n",
    "    key: random key for the model\n",
    "    i: index for the current iteration (just for labelling plots)\n",
    "    Returns:\n",
    "        new_b: the updated drift term, which is a function from R^ndims x R -> R^ndims\n",
    "    \"\"\"\n",
    "\n",
    "    path_key, model_key = jax.random.split(key)\n",
    "\n",
    "    xs, times = jax.pmap(lambda key:sample_sde(\n",
    "    b=b, \n",
    "    W = lambda _, key: jnp.sqrt(2)*jax.random.normal(key, shape=(ndims,)),\n",
    "    rho = lambda key: jnp.ones((ndims,))-2.,\n",
    "    key=key, \n",
    "    dt=hyperparams['dt'], \n",
    "    num_steps=hyperparams['num_steps']))(jax.random.split(path_key, hyperparams['batch_size']))\n",
    "\n",
    "\n",
    "    plot = True\n",
    "    if plot:\n",
    "\n",
    "        x = jnp.expand_dims(jnp.linspace(-5, 5, 100), 1)\n",
    "        y = (x**4 - 8 * x**2)\n",
    "        plt.ylim(-15,15)\n",
    "        if i==0: plt.plot(x, y)\n",
    "        plt.plot(xs[0],(times[0]/hyperparams['dt'])/5, label=i)\n",
    "        # plt.savefig('potential_new.png')\n",
    "        plt.legend()\n",
    "\n",
    "    expectation_of_J = E_J(xs, None)\n",
    "\n",
    "    dbds = find_dbds(\n",
    "        model_key,\n",
    "        expectation_of_J,\n",
    "        b,\n",
    "        xs,\n",
    "        times,\n",
    "        None,\n",
    "        num_training_steps=hyperparams['num_training_steps']\n",
    "        )\n",
    "    \n",
    "    ### calculate test loss\n",
    "    test_xs, test_times = jax.pmap(lambda key:sample_sde(\n",
    "        b=b, \n",
    "        W = lambda _, key: jnp.sqrt(2)*jax.random.normal(key, shape=(ndims,)),\n",
    "        rho = lambda key: jnp.zeros((ndims,))-2.,\n",
    "        key=key, \n",
    "        dt=hyperparams['dt'], \n",
    "        num_steps=hyperparams['num_steps']))(jax.random.split(jax.random.key(500), hyperparams['batch_size']))\n",
    "\n",
    "    print(f\"Test loss is {make_h_loss(expectation_of_J=expectation_of_J, b=b)(dbds, test_xs, test_times, None)}\")\n",
    "\n",
    "    ###\n",
    "\n",
    "    \n",
    "    new_b =  lambda x, t: (b(x,t) + dbds(x,t))\n",
    "    return new_b\n"
   ]
  },
  {
   "cell_type": "code",
   "execution_count": 9,
   "metadata": {},
   "outputs": [
    {
     "name": "stdout",
     "output_type": "stream",
     "text": [
      "Train loss: 24559.60546875\n",
      "Test loss is 6577274.0\n",
      "Train loss: 1888.3134765625\n",
      "Test loss is 4743.86083984375\n",
      "Train loss: 51.526092529296875\n",
      "Test loss is 182.67701721191406\n",
      "Train loss: 48.00471878051758\n",
      "Test loss is 37.03657531738281\n"
     ]
    },
    {
     "data": {
      "image/png": "[encoded data removed]",
      "text/plain": [
       "<Figure size 640x480 with 1 Axes>"
      ]
     },
     "metadata": {},
     "output_type": "display_data"
    }
   ],
   "source": [
    "key = jax.random.key(0)\n",
    "b = uref # initialize b as uref\n",
    "schedule = [0.0, 0.1, 0.2, 0.3] # , 0.2, 0.3, 0.4, 0.5, 0.6, 0.7, 0.8, 0.9, 1.0]\n",
    "for i, _ in enumerate(schedule):\n",
    "\n",
    "    key = jax.random.fold_in(key, i)\n",
    "\n",
    "    # update b -> b + dbds\n",
    "    b = update(b=b,\n",
    "        hyperparams={'dt': 0.001, 'num_steps': 50, 'num_training_steps' : 5000, 'batch_size' : 50},\n",
    "        key=key,\n",
    "        i=i\n",
    "    )"
   ]
  },
  {
   "cell_type": "markdown",
   "metadata": {},
   "source": [
    "## Everything below here is a work in progress, ignore for now!"
   ]
  },
  {
   "cell_type": "code",
   "execution_count": 6,
   "metadata": {},
   "outputs": [],
   "source": [
    "\n",
    "import blackjax\n",
    "\n",
    "def run_mclmc(logdensity_fn, num_steps, initial_position, key, transform, desired_energy_variance= 5e-4):\n",
    "    init_key, tune_key, run_key = jax.random.split(key, 3)\n",
    "\n",
    "    # create an initial state for the sampler\n",
    "    initial_state = blackjax.mcmc.mclmc.init(\n",
    "        position=initial_position, logdensity_fn=logdensity_fn, rng_key=init_key\n",
    "    )\n",
    "\n",
    "    # build the kernel\n",
    "    kernel = lambda inverse_mass_matrix : blackjax.mcmc.mclmc.build_kernel(\n",
    "        logdensity_fn=logdensity_fn,\n",
    "        integrator=blackjax.mcmc.integrators.isokinetic_mclachlan,\n",
    "        inverse_mass_matrix=inverse_mass_matrix,\n",
    "    )\n",
    "\n",
    "    # find values for L and step_size\n",
    "    (\n",
    "        blackjax_state_after_tuning,\n",
    "        blackjax_mclmc_sampler_params,\n",
    "        _\n",
    "    ) = blackjax.mclmc_find_L_and_step_size(\n",
    "        mclmc_kernel=kernel,\n",
    "        num_steps=num_steps,\n",
    "        state=initial_state,\n",
    "        rng_key=tune_key,\n",
    "        diagonal_preconditioning=False,\n",
    "        desired_energy_var=desired_energy_variance\n",
    "    )\n",
    "\n",
    "    # use the quick wrapper to build a new kernel with the tuned parameters\n",
    "    sampling_alg = blackjax.mclmc(\n",
    "        logdensity_fn,\n",
    "        L=blackjax_mclmc_sampler_params.L,\n",
    "        step_size=blackjax_mclmc_sampler_params.step_size,\n",
    "    )\n",
    "\n",
    "    # run the sampler\n",
    "    _, samples = blackjax.util.run_inference_algorithm(\n",
    "        rng_key=run_key,\n",
    "        initial_state=blackjax_state_after_tuning,\n",
    "        inference_algorithm=sampling_alg,\n",
    "        num_steps=num_steps,\n",
    "        transform=transform,\n",
    "        progress_bar=True,\n",
    "    )\n",
    "\n",
    "    return samples, blackjax_state_after_tuning, blackjax_mclmc_sampler_params, run_key\n"
   ]
  },
  {
   "cell_type": "code",
   "execution_count": 60,
   "metadata": {},
   "outputs": [],
   "source": [
    "def I(x, time, u):\n",
    "\n",
    "    dt = time[1]\n",
    "\n",
    "    dxdts = jnp.concatenate([jnp.zeros((1,)) , x[1:] - x[:-1]], axis=0)\n",
    "    print(dxdts.shape)\n",
    "\n",
    "\n",
    "        # calculate divergence of dbds at all times, using the trace of the jacobian\n",
    "    div_us = jax.vmap(lambda xt, t: (jax.jacobian(lambda k: u(k,t))(xt)))(x, time)\n",
    "\n",
    "\n",
    "\n",
    "    out = jax.vmap(lambda xt,t, div_u, dxdt : 0.5*dt*((dxdt - u(xt, t)).dot(dxdt - u(xt, t))) + 0.5*div_u)(x, time, div_us, dxdts)\n",
    "\n",
    "    return jnp.sum(out)\n"
   ]
  },
  {
   "cell_type": "code",
   "execution_count": 95,
   "metadata": {},
   "outputs": [
    {
     "data": {
      "text/plain": [
       "Array(-19.048677, dtype=float32)"
      ]
     },
     "execution_count": 95,
     "metadata": {},
     "output_type": "execute_result"
    }
   ],
   "source": [
    "hyperparams={'dt': 0.01, 'num_steps': 50, 'num_training_steps' : 1000}\n",
    "path_key = jax.random.key(0)\n",
    "xs, times = jax.pmap(lambda key:sample_sde(\n",
    "    b=b, \n",
    "    W = lambda _, key: jnp.sqrt(2)*jax.random.normal(key, shape=(ndims,)),\n",
    "    rho = lambda key: jax.random.normal(key, shape=(ndims,))-2,\n",
    "    key=key, \n",
    "    dt=hyperparams['dt'], \n",
    "    num_steps=hyperparams['num_steps']))(jax.random.split(path_key, batch_size))\n",
    "\n",
    "x = xs[0, :, 0]\n",
    "times[0].shape\n",
    "\n",
    "# potential = lambda x: (x**4 - 8 * x**2)\n",
    "\n",
    "schedule = [0.0, 0.1] # , 0.2, 0.3, 0.4, 0.5, 0.6, 0.7, 0.8, 0.9, 1.0]\n",
    "\n",
    "\n",
    "def new_b(x, t): \n",
    "    # assert x.shape[0] == ndims\n",
    "    return -jax.grad(lambda x: (x**4 - 8 * x**2))(x)\n",
    "\n",
    "# x[0]\n",
    "# print(new_b(x[0],times[0][0]))\n",
    "\n",
    "# I(x,times[0], new_b)\n",
    "-J(jnp.expand_dims(x,1), None)"
   ]
  },
  {
   "cell_type": "code",
   "execution_count": 101,
   "metadata": {},
   "outputs": [
    {
     "name": "stdout",
     "output_type": "stream",
     "text": [
      "(50,)\n",
      "(50,)\n",
      "(50,)\n",
      "(50,)\n",
      "(50,)\n",
      "(50,)\n",
      "(50,)\n"
     ]
    },
    {
     "data": {
      "text/html": [
       "\n",
       "<style>\n",
       "    /* Turns off some styling */\n",
       "    progress {\n",
       "        /* gets rid of default border in Firefox and Opera. */\n",
       "        border: none;\n",
       "        /* Needs to be in here for Safari polyfill so background images work as expected. */\n",
       "        background-size: auto;\n",
       "    }\n",
       "    progress:not([value]), progress:not([value])::-webkit-progress-bar {\n",
       "        background: repeating-linear-gradient(45deg, #7e7e7e, #7e7e7e 10px, #5c5c5c 10px, #5c5c5c 20px);\n",
       "    }\n",
       "    .progress-bar-interrupted, .progress-bar-interrupted::-webkit-progress-bar {\n",
       "        background: #F44336;\n",
       "    }\n",
       "</style>\n"
      ],
      "text/plain": [
       "<IPython.core.display.HTML object>"
      ]
     },
     "metadata": {},
     "output_type": "display_data"
    },
    {
     "data": {
      "text/html": [
       "\n",
       "    <div>\n",
       "      <progress value='100000' class='' max='100000' style='width:300px; height:20px; vertical-align: middle;'></progress>\n",
       "      100.00% [100000/100000 00:00&lt;?]\n",
       "    </div>\n",
       "    "
      ],
      "text/plain": [
       "<IPython.core.display.HTML object>"
      ]
     },
     "metadata": {},
     "output_type": "display_data"
    },
    {
     "name": "stdout",
     "output_type": "stream",
     "text": [
      "(100000, 50)\n"
     ]
    }
   ],
   "source": [
    "def new_b(x, t): \n",
    "    # assert x.shape[0] == ndims\n",
    "    return -jax.grad(lambda x: (x**4 - 8 * x**2))(x)\n",
    "\n",
    "\n",
    "time = np.arange(1,hyperparams['num_steps']+1)*hyperparams['dt']\n",
    "# use onsager machlup here\n",
    "logdensity_fn = lambda x: jax.scipy.stats.norm.logpdf(x[0], loc=-2, scale=1) - I(x, time, new_b) - jnp.linalg.norm(x[-1] - 2)**2\n",
    "# jax.scipy.stats.norm.pdf(x[-1], loc=2, scale=1)\n",
    "\n",
    "num_steps = 100000\n",
    "transform = lambda state, info: state.position\n",
    "\n",
    "hyperparams={'dt': 0.01, 'num_steps': 50, 'num_training_steps' : 1000}\n",
    "path_key = jax.random.key(0)\n",
    "xs, times = jax.pmap(lambda key:sample_sde(\n",
    "    b=b, \n",
    "    W = lambda _, key: jnp.sqrt(2)*jax.random.normal(key, shape=(ndims,)),\n",
    "    rho = lambda key: jax.random.normal(key, shape=(ndims,))-2,\n",
    "    key=key, \n",
    "    dt=hyperparams['dt'], \n",
    "    num_steps=hyperparams['num_steps']))(jax.random.split(path_key, batch_size))\n",
    "\n",
    "initial_position = xs[0, :, 0]\n",
    "\n",
    "# print(initial_position.shape)\n",
    "# raise Exception\n",
    "\n",
    "rng_key = jax.random.PRNGKey(0)\n",
    "sample_key, rng_key = jax.random.split(rng_key)\n",
    "samples, initial_state, params, chain_key = run_mclmc(\n",
    "    logdensity_fn=logdensity_fn,\n",
    "    num_steps=num_steps,\n",
    "    initial_position=initial_position,\n",
    "    key=sample_key,\n",
    "    transform=transform,\n",
    ")\n",
    "\n",
    "print(samples.shape)\n",
    "\n"
   ]
  },
  {
   "cell_type": "code",
   "execution_count": 102,
   "metadata": {},
   "outputs": [
    {
     "data": {
      "text/plain": [
       "[<matplotlib.lines.Line2D at 0x598859190>]"
      ]
     },
     "execution_count": 102,
     "metadata": {},
     "output_type": "execute_result"
    },
    {
     "data": {
      "image/png": "[encoded data removed]",
      "text/plain": [
       "<Figure size 640x480 with 1 Axes>"
      ]
     },
     "metadata": {},
     "output_type": "display_data"
    }
   ],
   "source": [
    "# plot samples[-1]\n",
    "samples.shape\n",
    "plt.plot(samples[0, :])"
   ]
  },
  {
   "cell_type": "code",
   "execution_count": null,
   "metadata": {},
   "outputs": [],
   "source": []
  }
 ],
 "metadata": {
  "kernelspec": {
   "display_name": "path_sampling",
   "language": "python",
   "name": "python3"
  },
  "language_info": {
   "codemirror_mode": {
    "name": "ipython",
    "version": 3
   },
   "file_extension": ".py",
   "mimetype": "text/x-python",
   "name": "python",
   "nbconvert_exporter": "python",
   "pygments_lexer": "ipython3",
   "version": "3.11.11"
  }
 },
 "nbformat": 4,
 "nbformat_minor": 2
}
