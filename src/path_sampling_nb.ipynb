{
 "cells": [
  {
   "cell_type": "code",
   "execution_count": 8,
   "metadata": {},
   "outputs": [],
   "source": [
    "import jax\n",
    "import jax.numpy as jnp\n",
    "from nn import MLP, train\n",
    "import numpy as np\n",
    "import matplotlib.pyplot as plt\n",
    "import optax \n",
    "import scipy\n",
    "\n",
    "# number of paths sampled in one run of calculating dbds. We could handle with parallelization (pmap)\n",
    "batch_size = 100\n",
    "import os\n",
    "os.environ[\"XLA_FLAGS\"] = \"--xla_force_host_platform_device_count=\" + str(batch_size)\n",
    "\n",
    "# currently I'm just doing an SDE on \\mathbb{R}\n",
    "ndims = 1\n",
    "\n",
    "def sample_sde(b, W, rho, dt, num_steps, key):\n",
    "\n",
    "    init_key, run_key = jax.random.split(key)\n",
    "    X_0 = rho(init_key)\n",
    "\n",
    "    def body(X_and_t, key):\n",
    "        X, time = X_and_t\n",
    "\n",
    "        new_X = X + b(X, time) * dt + W(X_0, key) * jnp.sqrt(dt)\n",
    "        new_time = time + dt\n",
    "        return ((new_X, new_time), (new_X, new_time))\n",
    "\n",
    "    keys = jax.random.split(run_key, num_steps-1)\n",
    "    path, time =  jax.lax.scan(body, (X_0, 0), keys)[1]\n",
    "    return jnp.concat((X_0[None], path), axis=0), jnp.concat((jnp.zeros(1,), time), axis=0)\n"
   ]
  },
  {
   "cell_type": "code",
   "execution_count": 9,
   "metadata": {},
   "outputs": [
    {
     "data": {
      "text/plain": [
       "Array(-2., dtype=float32)"
      ]
     },
     "execution_count": 9,
     "metadata": {},
     "output_type": "execute_result"
    }
   ],
   "source": [
    "hyperparams={'dt': 0.01, 'num_steps': 50, 'num_training_steps' : 1000}\n",
    "\n",
    "\n",
    "def uref(x, t): \n",
    "    potential = lambda x: jnp.sum(x**4 - 8 * x**2,axis=-1)\n",
    "    return -jax.grad(potential)(x)\n",
    "\n",
    "path, time = sample_sde(\n",
    "    b=uref, \n",
    "    W = lambda _, key: jnp.sqrt(2)*jax.random.normal(key, shape=(ndims,)),\n",
    "    rho = lambda key: jnp.zeros((ndims,))-2.,\n",
    "    key=jax.random.key(0), \n",
    "    dt=hyperparams['dt'], \n",
    "    num_steps=hyperparams['num_steps'])\n",
    "\n",
    "path[0,0]"
   ]
  },
  {
   "cell_type": "code",
   "execution_count": 10,
   "metadata": {},
   "outputs": [
    {
     "data": {
      "text/plain": [
       "[<matplotlib.lines.Line2D at 0x11779a690>]"
      ]
     },
     "execution_count": 10,
     "metadata": {},
     "output_type": "execute_result"
    },
    {
     "data": {
      "image/png": "[encoded data removed]",
      "text/plain": [
       "<Figure size 640x480 with 1 Axes>"
      ]
     },
     "metadata": {},
     "output_type": "display_data"
    }
   ],
   "source": [
    "# visualize path\n",
    "plt.plot(path,time)\n",
    "# plot potential\n",
    "potential = lambda x: jnp.sum(x**4 - 8 * x**2,axis=-1)\n",
    "x = np.linspace(-3, 3, 100)\n",
    "\n",
    "plt.plot(x, potential(x[:, None]))"
   ]
  },
  {
   "cell_type": "code",
   "execution_count": 11,
   "metadata": {},
   "outputs": [],
   "source": [
    "# currently set for TPS\n",
    "def J(x,y):\n",
    "\n",
    "    # return jax.scipy.stats.norm.pdf(x[-1,0], loc=2, scale=1)\n",
    "    sigma = 0.1\n",
    "    return (1/sigma**2)*jnp.linalg.norm(x[-1,0]- 2)**2\n",
    "\n",
    "    # return (x[-1, :] > 0.).astype(jnp.float32)\n",
    "\n",
    "def E_J(paths, obs):\n",
    "    return jnp.mean(jax.vmap(J)(paths, obs),axis=0)\n"
   ]
  },
  {
   "cell_type": "code",
   "execution_count": 12,
   "metadata": {},
   "outputs": [],
   "source": [
    "\n",
    "def make_h(b, dbds):\n",
    "\n",
    "    @jax.jit\n",
    "    def h(x, time):\n",
    "        # x: [steps, ndims]\n",
    "        # time: [steps]\n",
    "\n",
    "        dt = time[1]\n",
    "        # TODO: consider whether this treatment of the gradient is correct\n",
    "        dxdts = jnp.concatenate([jnp.zeros((1, x.shape[1])) , x[1:, :] - x[:-1, :]], axis=0)\n",
    "\n",
    "        # calculate divergence of dbds at all times, using the trace of the jacobian\n",
    "        div_dbdss = jax.vmap(lambda xt, t: jnp.trace(jax.jacobian(lambda k: dbds(k,t))(xt)))(x, time)\n",
    "\n",
    "        # the discretized integral\n",
    "        out = jax.vmap(lambda x, t, dxdt, div_dbds: \n",
    "                    \n",
    "                    -0.5*dt*((b(x,t) - dxdt).dot(dbds(x,t)) + 0.5*div_dbds)\n",
    "                    )(x,time, dxdts, div_dbdss)\n",
    "        \n",
    "        return jnp.sum(out) \n",
    "\n",
    "\n",
    "    return h\n",
    "\n",
    "# compute the loss function, which here is the square of the difference between the left and right of (7)\n",
    "def make_h_loss(expectation_of_J, b):\n",
    "    \n",
    "    def h_loss(dbds, xs, times, ys):\n",
    "\n",
    "        h = make_h(b, dbds)\n",
    "\n",
    "        expectation_of_h = jnp.mean(jax.vmap(h)(xs, times), axis=0)\n",
    "\n",
    "        # conern: do the two Js cancel under this sum?\n",
    "        return jnp.sum(jax.vmap(lambda x,y, t: (-J(x, y)+expectation_of_J - h(x,t) + expectation_of_h)**2)(xs, ys, times))\n",
    "\n",
    "    return h_loss        \n"
   ]
  },
  {
   "cell_type": "code",
   "execution_count": 13,
   "metadata": {},
   "outputs": [],
   "source": [
    "\n",
    "# parametrize dbds by a neural net, and minimize h_loss\n",
    "def find_dbds(model_key, expectation_of_J, b, xs, times, ys, num_training_steps):\n",
    "\n",
    "    # initialize model\n",
    "    dbds = MLP([2,20,20,1], key=model_key)\n",
    "    learning_rate = 1e-3\n",
    "    optimizer = optax.adam(learning_rate)\n",
    "\n",
    "    h_loss = make_h_loss(expectation_of_J, b)\n",
    "\n",
    "    dbds = train(h_loss, dbds, optimizer, num_training_steps, xs, times, ys)\n",
    "\n",
    "    return dbds\n",
    "\n",
    "\n",
    "# b \\mapsto b + dbds\n",
    "def update(b, hyperparams, key):\n",
    "\n",
    "    # b : [ndims] -> [1]\n",
    "\n",
    "    path_key, model_key = jax.random.split(key)\n",
    "\n",
    "    xs, times = jax.pmap(lambda key:sample_sde(\n",
    "    b=b, \n",
    "    W = lambda _, key: jnp.sqrt(2)*jax.random.normal(key, shape=(ndims,)),\n",
    "    rho = lambda key: jnp.ones((ndims,))-2.,\n",
    "    key=key, \n",
    "    dt=hyperparams['dt'], \n",
    "    num_steps=hyperparams['num_steps']))(jax.random.split(path_key, batch_size))\n",
    "\n",
    "\n",
    "    plot = True\n",
    "    if plot:\n",
    "\n",
    "        x = jnp.expand_dims(jnp.linspace(-5, 5, 100), 1)\n",
    "        y = (x**4 - 8 * x**2)\n",
    "        y2 = jax.vmap(lambda k: b(k, 0.1))(x)\n",
    "        plt.ylim(-15,15)\n",
    "        plt.plot(x, y)\n",
    "        plt.plot(xs[0],times[0]*5)\n",
    "        # plt.hist(xs[0], bins=100, density=True)\n",
    "        plt.savefig('potential_new.png')\n",
    "\n",
    "    \n",
    "    # ys = (xs > 0).astype(jnp.float32)\n",
    "\n",
    "    expectation_of_J = E_J(xs, None) # .mean(axis=0)\n",
    "\n",
    "\n",
    "    dbds = find_dbds(\n",
    "        model_key,\n",
    "        expectation_of_J,\n",
    "        b,\n",
    "        xs,\n",
    "        times,\n",
    "        None,\n",
    "        num_training_steps=hyperparams['num_training_steps']\n",
    "        )\n",
    "    \n",
    "\n",
    "    test_xs, test_times = jax.pmap(lambda key:sample_sde(\n",
    "        b=b, \n",
    "        W = lambda _, key: jnp.sqrt(2)*jax.random.normal(key, shape=(ndims,)),\n",
    "        rho = lambda key: jnp.zeros((ndims,))-2.,\n",
    "        key=key, \n",
    "        dt=hyperparams['dt'], \n",
    "        num_steps=hyperparams['num_steps']))(jax.random.split(jax.random.key(500), batch_size))\n",
    "\n",
    "    print(make_h_loss(expectation_of_J=expectation_of_J, b=b)(\n",
    "        dbds,\n",
    "        test_xs,\n",
    "        test_times,\n",
    "        None\n",
    "    ), \"LOSS\\n\")\n",
    "\n",
    "    ## TODO: you need to pass in the algorithmic time!!! or not?\n",
    "    \n",
    "    new_b =  lambda x, t: (b(x,t) + dbds(x,t))\n",
    "    \n",
    "\n",
    "    return new_b\n",
    "\n",
    "   \n",
    "# potential = lambda x: jnp.sum(x**4 - 8 * x**2,axis=0)\n",
    "\n",
    "\n",
    "\n",
    "# def b(x, t): \n",
    "#     assert x.shape[0] == ndims\n",
    "#     return -jax.grad(potential)(x)\n",
    "\n",
    "\n",
    "# logdensity = todo\n"
   ]
  },
  {
   "cell_type": "code",
   "execution_count": 14,
   "metadata": {},
   "outputs": [
    {
     "name": "stdout",
     "output_type": "stream",
     "text": [
      "loss_value 2509644.5\n",
      "1849293.4 LOSS\n",
      "\n",
      "NEXT ITER\n",
      "loss_value 20557.52734375\n",
      "14182.863 LOSS\n",
      "\n",
      "NEXT ITER\n",
      "loss_value 69433.8046875\n",
      "72483.52 LOSS\n",
      "\n",
      "NEXT ITER\n"
     ]
    },
    {
     "data": {
      "image/png": "[encoded data removed]",
      "text/plain": [
       "<Figure size 640x480 with 1 Axes>"
      ]
     },
     "metadata": {},
     "output_type": "display_data"
    }
   ],
   "source": [
    "key = jax.random.key(0)\n",
    "b = uref\n",
    "schedule = [0.0, 0.1, 0.2] # , 0.2, 0.3, 0.4, 0.5, 0.6, 0.7, 0.8, 0.9, 1.0]\n",
    "for i, _ in enumerate(schedule):\n",
    "\n",
    "\n",
    "    key = jax.random.fold_in(key, i)\n",
    "\n",
    "    b = update(b=b,\n",
    "        hyperparams={'dt': 0.01, 'num_steps': 50, 'num_training_steps' : 1000},\n",
    "        key=key\n",
    "    )\n",
    "    print(\"NEXT ITER\")"
   ]
  },
  {
   "cell_type": "markdown",
   "metadata": {},
   "source": [
    "## Above "
   ]
  },
  {
   "cell_type": "code",
   "execution_count": 6,
   "metadata": {},
   "outputs": [],
   "source": [
    "\n",
    "import blackjax\n",
    "\n",
    "def run_mclmc(logdensity_fn, num_steps, initial_position, key, transform, desired_energy_variance= 5e-4):\n",
    "    init_key, tune_key, run_key = jax.random.split(key, 3)\n",
    "\n",
    "    # create an initial state for the sampler\n",
    "    initial_state = blackjax.mcmc.mclmc.init(\n",
    "        position=initial_position, logdensity_fn=logdensity_fn, rng_key=init_key\n",
    "    )\n",
    "\n",
    "    # build the kernel\n",
    "    kernel = lambda inverse_mass_matrix : blackjax.mcmc.mclmc.build_kernel(\n",
    "        logdensity_fn=logdensity_fn,\n",
    "        integrator=blackjax.mcmc.integrators.isokinetic_mclachlan,\n",
    "        inverse_mass_matrix=inverse_mass_matrix,\n",
    "    )\n",
    "\n",
    "    # find values for L and step_size\n",
    "    (\n",
    "        blackjax_state_after_tuning,\n",
    "        blackjax_mclmc_sampler_params,\n",
    "        _\n",
    "    ) = blackjax.mclmc_find_L_and_step_size(\n",
    "        mclmc_kernel=kernel,\n",
    "        num_steps=num_steps,\n",
    "        state=initial_state,\n",
    "        rng_key=tune_key,\n",
    "        diagonal_preconditioning=False,\n",
    "        desired_energy_var=desired_energy_variance\n",
    "    )\n",
    "\n",
    "    # use the quick wrapper to build a new kernel with the tuned parameters\n",
    "    sampling_alg = blackjax.mclmc(\n",
    "        logdensity_fn,\n",
    "        L=blackjax_mclmc_sampler_params.L,\n",
    "        step_size=blackjax_mclmc_sampler_params.step_size,\n",
    "    )\n",
    "\n",
    "    # run the sampler\n",
    "    _, samples = blackjax.util.run_inference_algorithm(\n",
    "        rng_key=run_key,\n",
    "        initial_state=blackjax_state_after_tuning,\n",
    "        inference_algorithm=sampling_alg,\n",
    "        num_steps=num_steps,\n",
    "        transform=transform,\n",
    "        progress_bar=True,\n",
    "    )\n",
    "\n",
    "    return samples, blackjax_state_after_tuning, blackjax_mclmc_sampler_params, run_key\n"
   ]
  },
  {
   "cell_type": "code",
   "execution_count": 60,
   "metadata": {},
   "outputs": [],
   "source": [
    "def I(x, time, u):\n",
    "\n",
    "    dt = time[1]\n",
    "\n",
    "    dxdts = jnp.concatenate([jnp.zeros((1,)) , x[1:] - x[:-1]], axis=0)\n",
    "    print(dxdts.shape)\n",
    "\n",
    "\n",
    "        # calculate divergence of dbds at all times, using the trace of the jacobian\n",
    "    div_us = jax.vmap(lambda xt, t: (jax.jacobian(lambda k: u(k,t))(xt)))(x, time)\n",
    "\n",
    "\n",
    "\n",
    "    out = jax.vmap(lambda xt,t, div_u, dxdt : 0.5*dt*((dxdt - u(xt, t)).dot(dxdt - u(xt, t))) + 0.5*div_u)(x, time, div_us, dxdts)\n",
    "\n",
    "    return jnp.sum(out)\n"
   ]
  },
  {
   "cell_type": "code",
   "execution_count": 95,
   "metadata": {},
   "outputs": [
    {
     "data": {
      "text/plain": [
       "Array(-19.048677, dtype=float32)"
      ]
     },
     "execution_count": 95,
     "metadata": {},
     "output_type": "execute_result"
    }
   ],
   "source": [
    "hyperparams={'dt': 0.01, 'num_steps': 50, 'num_training_steps' : 1000}\n",
    "path_key = jax.random.key(0)\n",
    "xs, times = jax.pmap(lambda key:sample_sde(\n",
    "    b=b, \n",
    "    W = lambda _, key: jnp.sqrt(2)*jax.random.normal(key, shape=(ndims,)),\n",
    "    rho = lambda key: jax.random.normal(key, shape=(ndims,))-2,\n",
    "    key=key, \n",
    "    dt=hyperparams['dt'], \n",
    "    num_steps=hyperparams['num_steps']))(jax.random.split(path_key, batch_size))\n",
    "\n",
    "x = xs[0, :, 0]\n",
    "times[0].shape\n",
    "\n",
    "# potential = lambda x: (x**4 - 8 * x**2)\n",
    "\n",
    "schedule = [0.0, 0.1] # , 0.2, 0.3, 0.4, 0.5, 0.6, 0.7, 0.8, 0.9, 1.0]\n",
    "\n",
    "\n",
    "def new_b(x, t): \n",
    "    # assert x.shape[0] == ndims\n",
    "    return -jax.grad(lambda x: (x**4 - 8 * x**2))(x)\n",
    "\n",
    "# x[0]\n",
    "# print(new_b(x[0],times[0][0]))\n",
    "\n",
    "# I(x,times[0], new_b)\n",
    "-J(jnp.expand_dims(x,1), None)"
   ]
  },
  {
   "cell_type": "code",
   "execution_count": 101,
   "metadata": {},
   "outputs": [
    {
     "name": "stdout",
     "output_type": "stream",
     "text": [
      "(50,)\n",
      "(50,)\n",
      "(50,)\n",
      "(50,)\n",
      "(50,)\n",
      "(50,)\n",
      "(50,)\n"
     ]
    },
    {
     "data": {
      "text/html": [
       "\n",
       "<style>\n",
       "    /* Turns off some styling */\n",
       "    progress {\n",
       "        /* gets rid of default border in Firefox and Opera. */\n",
       "        border: none;\n",
       "        /* Needs to be in here for Safari polyfill so background images work as expected. */\n",
       "        background-size: auto;\n",
       "    }\n",
       "    progress:not([value]), progress:not([value])::-webkit-progress-bar {\n",
       "        background: repeating-linear-gradient(45deg, #7e7e7e, #7e7e7e 10px, #5c5c5c 10px, #5c5c5c 20px);\n",
       "    }\n",
       "    .progress-bar-interrupted, .progress-bar-interrupted::-webkit-progress-bar {\n",
       "        background: #F44336;\n",
       "    }\n",
       "</style>\n"
      ],
      "text/plain": [
       "<IPython.core.display.HTML object>"
      ]
     },
     "metadata": {},
     "output_type": "display_data"
    },
    {
     "data": {
      "text/html": [
       "\n",
       "    <div>\n",
       "      <progress value='100000' class='' max='100000' style='width:300px; height:20px; vertical-align: middle;'></progress>\n",
       "      100.00% [100000/100000 00:00&lt;?]\n",
       "    </div>\n",
       "    "
      ],
      "text/plain": [
       "<IPython.core.display.HTML object>"
      ]
     },
     "metadata": {},
     "output_type": "display_data"
    },
    {
     "name": "stdout",
     "output_type": "stream",
     "text": [
      "(100000, 50)\n"
     ]
    }
   ],
   "source": [
    "def new_b(x, t): \n",
    "    # assert x.shape[0] == ndims\n",
    "    return -jax.grad(lambda x: (x**4 - 8 * x**2))(x)\n",
    "\n",
    "\n",
    "time = np.arange(1,hyperparams['num_steps']+1)*hyperparams['dt']\n",
    "# use onsager machlup here\n",
    "logdensity_fn = lambda x: jax.scipy.stats.norm.logpdf(x[0], loc=-2, scale=1) - I(x, time, new_b) - jnp.linalg.norm(x[-1] - 2)**2\n",
    "# jax.scipy.stats.norm.pdf(x[-1], loc=2, scale=1)\n",
    "\n",
    "num_steps = 100000\n",
    "transform = lambda state, info: state.position\n",
    "\n",
    "hyperparams={'dt': 0.01, 'num_steps': 50, 'num_training_steps' : 1000}\n",
    "path_key = jax.random.key(0)\n",
    "xs, times = jax.pmap(lambda key:sample_sde(\n",
    "    b=b, \n",
    "    W = lambda _, key: jnp.sqrt(2)*jax.random.normal(key, shape=(ndims,)),\n",
    "    rho = lambda key: jax.random.normal(key, shape=(ndims,))-2,\n",
    "    key=key, \n",
    "    dt=hyperparams['dt'], \n",
    "    num_steps=hyperparams['num_steps']))(jax.random.split(path_key, batch_size))\n",
    "\n",
    "initial_position = xs[0, :, 0]\n",
    "\n",
    "# print(initial_position.shape)\n",
    "# raise Exception\n",
    "\n",
    "rng_key = jax.random.PRNGKey(0)\n",
    "sample_key, rng_key = jax.random.split(rng_key)\n",
    "samples, initial_state, params, chain_key = run_mclmc(\n",
    "    logdensity_fn=logdensity_fn,\n",
    "    num_steps=num_steps,\n",
    "    initial_position=initial_position,\n",
    "    key=sample_key,\n",
    "    transform=transform,\n",
    ")\n",
    "\n",
    "print(samples.shape)\n",
    "\n"
   ]
  },
  {
   "cell_type": "code",
   "execution_count": 102,
   "metadata": {},
   "outputs": [
    {
     "data": {
      "text/plain": [
       "[<matplotlib.lines.Line2D at 0x598859190>]"
      ]
     },
     "execution_count": 102,
     "metadata": {},
     "output_type": "execute_result"
    },
    {
     "data": {
      "image/png": "[encoded data removed]",
      "text/plain": [
       "<Figure size 640x480 with 1 Axes>"
      ]
     },
     "metadata": {},
     "output_type": "display_data"
    }
   ],
   "source": [
    "# plot samples[-1]\n",
    "samples.shape\n",
    "plt.plot(samples[0, :])"
   ]
  },
  {
   "cell_type": "code",
   "execution_count": null,
   "metadata": {},
   "outputs": [],
   "source": []
  }
 ],
 "metadata": {
  "kernelspec": {
   "display_name": "path_sampling",
   "language": "python",
   "name": "python3"
  },
  "language_info": {
   "codemirror_mode": {
    "name": "ipython",
    "version": 3
   },
   "file_extension": ".py",
   "mimetype": "text/x-python",
   "name": "python",
   "nbconvert_exporter": "python",
   "pygments_lexer": "ipython3",
   "version": "3.11.11"
  }
 },
 "nbformat": 4,
 "nbformat_minor": 2
}
