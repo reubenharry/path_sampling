{
 "cells": [
  {
   "cell_type": "markdown",
   "id": "e9e05db7",
   "metadata": {},
   "source": [
    "## Run Algorithm 3 on stationary OU, with J imposed at middle and final time"
   ]
  },
  {
   "cell_type": "code",
   "execution_count": null,
   "id": "bc5da918",
   "metadata": {},
   "outputs": [],
   "source": [
    "\n",
    "import matplotlib.pyplot as plt\n",
    "import numpy as np\n",
    "import math\n",
    "\n",
    "\n",
    "dim = 1\n",
    "walkers = 50   # size of the interacting particle system\n",
    "m = 20   # number of purturbations for FI estimator\n",
    "sigma = 0.1   # size of perturbation\n",
    "\n",
    "\n",
    "hyperparams={'dt': 0.01, 'num_steps': 100, 'num_training_steps' : 200}\n",
    "\n",
    "# OU as reference: dXt = - beta X_t dt + sqrt{2}dW_t\n",
    "# stationary distribution \\nu is N(0,1/beta) with variance = 1/beta\n",
    "beta = 0.5\n",
    "X_init = np.random.normal(0,1/math.sqrt(beta),walkers)  # initialize walkers from Gaussian\n",
    "\n",
    "\n",
    "\n",
    "\n",
    "grad_V = lambda x: beta*x   # gradient of reference potential\n",
    "delta_log_nu = -beta*dim   \n",
    "\n",
    "\n",
    "# likelihood function: maybe x(middle_point)=-3, x(final_point = 3)? So J is 0 for most t\n",
    "# without J, one expect N(0,1/beta)\n",
    "tol = 0.01\n",
    "J=lambda x,y: (1/2.0)*(1/tol**2)*(x[-1,0]- 1)**2, \n",
    "\n",
    "\n",
    "# can skip line 7-9 in Algorithm 3, and use MLP for now\n",
    "\n",
    "\n"
   ]
  }
 ],
 "metadata": {
  "kernelspec": {
   "display_name": "Python 3 (ipykernel)",
   "language": "python",
   "name": "python3"
  },
  "language_info": {
   "codemirror_mode": {
    "name": "ipython",
    "version": 3
   },
   "file_extension": ".py",
   "mimetype": "text/x-python",
   "name": "python",
   "nbconvert_exporter": "python",
   "pygments_lexer": "ipython3",
   "version": "3.11.5"
  }
 },
 "nbformat": 4,
 "nbformat_minor": 5
}
