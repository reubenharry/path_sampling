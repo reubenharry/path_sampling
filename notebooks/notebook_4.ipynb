{
 "cells": [
  {
   "cell_type": "markdown",
   "id": "e9e05db7",
   "metadata": {},
   "source": [
    "## Run Algorithm 3 on stationary OU, with J imposed at middle and final time"
   ]
  },
  {
   "cell_type": "code",
   "execution_count": 45,
   "id": "bc5da918",
   "metadata": {},
   "outputs": [],
   "source": [
    "\n",
    "import matplotlib.pyplot as plt\n",
    "import numpy as np\n",
    "import math\n",
    "\n",
    "\n",
    "dim = 1\n",
    "walkers = 50   # size of the interacting particle system\n",
    "m = 20   # number of purturbations for FI estimator\n",
    "sigma = 0.1   # size of perturbation\n",
    "\n",
    "\n",
    "hyperparams={'dt': 0.01, 'num_steps': 10, 'num_training_steps' : 200}\n",
    "\n",
    "# OU as reference: dXt = - beta X_t dt + sqrt{2}dW_t\n",
    "# stationary distribution \\nu is N(0,1/beta) with variance = 1/beta\n",
    "beta = 0.5\n",
    "X_init = np.random.normal(0,1/math.sqrt(beta),walkers)  # initialize walkers from Gaussian\n",
    "\n",
    "\n",
    "grad_V = lambda x: beta*x   # gradient of reference potential\n",
    "delta_log_nu = lambda x: -beta*dim   \n",
    "\n",
    "\n",
    "# likelihood function: maybe x(middle_point)=-3, x(final_point = 3)? So J is 0 for most t\n",
    "# without J, one expect N(0,1/beta)\n",
    "tol = 0.01\n"
   ]
  },
  {
   "cell_type": "code",
   "execution_count": 50,
   "id": "98aee1be",
   "metadata": {},
   "outputs": [
    {
     "name": "stdout",
     "output_type": "stream",
     "text": [
      "Train loss: 1176.3798828125\n",
      "Train loss: 182.2158966064453\n",
      "Train loss: 126.95307159423828\n",
      "Train loss: 83.70852661132812\n",
      "Train loss: 34.59954071044922\n",
      "Train loss: 45.58259201049805\n",
      "Train loss: 54.92138671875\n",
      "Train loss: 47.26638412475586\n",
      "Train loss: 65.25096130371094\n",
      "Train loss: 42.622772216796875\n"
     ]
    },
    {
     "data": {
      "image/png": "[encoded data removed]",
      "text/plain": [
       "<Figure size 640x480 with 1 Axes>"
      ]
     },
     "metadata": {},
     "output_type": "display_data"
    }
   ],
   "source": [
    "import jax\n",
    "import jax.numpy as jnp\n",
    "import equinox as eqx\n",
    "import optax\n",
    "import sys\n",
    "sys.path.append(\"..\")\n",
    "from src.nn import MLP, train\n",
    "\n",
    "key = jax.random.PRNGKey(0)\n",
    "\n",
    "h = hyperparams['dt']\n",
    "T = hyperparams['num_steps']*hyperparams['dt']\n",
    "num_steps = hyperparams['num_steps']\n",
    "num_training_steps = hyperparams['num_training_steps']\n",
    "\n",
    "# Set up the neural network\n",
    "mlp_dims = [3, 20, 20, 1]\n",
    "model_key, key = jax.random.split(key)\n",
    "phi = MLP(mlp_dims, key=model_key)\n",
    "optimizer = optax.adam(1e-3)\n",
    "\n",
    "choice_points = jnp.array([0.1, 0.5, 1.0])\n",
    "\n",
    "\n",
    "# Initialize particles\n",
    "X_particles = jnp.array(X_init).reshape(-1, 1)  # shape (n, 1)\n",
    "\n",
    "def L_theta(X, grad_V):\n",
    "\n",
    "    return jnp.mean(jax.vmap(lambda x: 0.5 * jnp.linalg.norm(grad_V(x))**2 + delta_log_nu(x))(X))\n",
    "\n",
    "\n",
    "def R_theta(X, m, sigma, key):\n",
    "    X = jnp.expand_dims(X, axis=0)\n",
    "    n = X.shape[0]\n",
    "    Y = X + sigma * jax.random.normal(key, (m, n))\n",
    "    diff = Y - X\n",
    "    return jnp.mean(jax.vmap(lambda k: jnp.linalg.norm(k)**2 / (2 * sigma ** 4))(diff))\n",
    "\n",
    "def J_t(X,t):\n",
    "    t_condition = jnp.any(t==choice_points)\n",
    "    return t_condition * ((1/2.0)*(1/tol**2)*(X[0] - 1)**2)\n",
    "\n",
    "def make_loss(rkey):\n",
    "    def loss(phi, X, t, s):\n",
    "        X_proposed = jax.vmap(jax.grad(lambda x: phi(x,  t, s)[0]))(X)\n",
    "        term1 =  (1/(2*h**2)) * (jnp.mean(jax.vmap(lambda x,y: (x-y).dot(x-y))(X_proposed, X)))\n",
    "        term2 = jnp.mean(jax.vmap(lambda x: R_theta(x, m, sigma, rkey) + (2/h)*J_t(x, t))(X_proposed))\n",
    "        term3 = L_theta(X_proposed, grad_V)\n",
    "        return term1 + term2 + term3\n",
    "    return loss\n",
    "\n",
    "# Main loop\n",
    "for step in range(num_steps):\n",
    "    t = step * h\n",
    "    t_input = jnp.ones((1,)) * t\n",
    "    s_input = jnp.ones((1,)) # a placeholder variable\n",
    "\n",
    "    rkey = jax.random.fold_in(key, step)\n",
    "\n",
    "    # new phi: but is it phi(\\cdot, x)?\n",
    "    phi = train(make_loss(rkey), phi, optimizer, num_training_steps, X_particles, jnp.ones((1,))*t, s_input)\n",
    "\n",
    "    X_particles = jax.vmap(jax.grad(lambda x: phi(x,  t_input, s_input)[0]))(X_particles)\n",
    "\n",
    "\n",
    "# After loop, X_particles contains the final samples\n",
    "plt.hist(np.array(X_particles).flatten(), bins=30, alpha=0.7)\n",
    "plt.title('Final Particle Distribution')\n",
    "plt.show()"
   ]
  },
  {
   "cell_type": "code",
   "execution_count": null,
   "id": "205bb861",
   "metadata": {},
   "outputs": [],
   "source": []
  }
 ],
 "metadata": {
  "kernelspec": {
   "display_name": "path_sampling",
   "language": "python",
   "name": "python3"
  },
  "language_info": {
   "codemirror_mode": {
    "name": "ipython",
    "version": 3
   },
   "file_extension": ".py",
   "mimetype": "text/x-python",
   "name": "python",
   "nbconvert_exporter": "python",
   "pygments_lexer": "ipython3",
   "version": "3.11.11"
  }
 },
 "nbformat": 4,
 "nbformat_minor": 5
}
